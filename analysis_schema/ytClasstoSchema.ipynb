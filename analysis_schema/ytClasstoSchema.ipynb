{
 "cells": [
  {
   "cell_type": "markdown",
   "metadata": {},
   "source": [
    "### Questions:\n",
    "\n",
    "- how can I recognize a yt specific container or entity?\n",
    "    - create a 'new_type'?"
   ]
  },
  {
   "cell_type": "code",
   "execution_count": 52,
   "metadata": {},
   "outputs": [],
   "source": [
    "from typing import Dict, List, Optional, Sequence, Set, Tuple, OrderedDict\n",
    "import enum\n",
    "from pydantic import BaseModel, Schema, create_model\n",
    "from quantities import UnitfulCoordinate, Vector, Path, UnitfulValue, UnitfulArray"
   ]
  },
  {
   "cell_type": "markdown",
   "metadata": {},
   "source": [
    "### Fixed Resolution Buffer"
   ]
  },
  {
   "cell_type": "code",
   "execution_count": 105,
   "metadata": {},
   "outputs": [
    {
     "ename": "TypeError",
     "evalue": "issubclass() arg 1 must be a class",
     "output_type": "error",
     "traceback": [
      "\u001b[0;31m---------------------------------------------------------------------------\u001b[0m",
      "\u001b[0;31mTypeError\u001b[0m                                 Traceback (most recent call last)",
      "\u001b[0;32m<ipython-input-105-802992e27638>\u001b[0m in \u001b[0;36m<module>\u001b[0;34m\u001b[0m\n\u001b[1;32m     14\u001b[0m     \u001b[0mexclude_fields\u001b[0m \u001b[0;34m:\u001b[0m \u001b[0mTuple\u001b[0m\u001b[0;34m[\u001b[0m\u001b[0mstr\u001b[0m\u001b[0;34m,\u001b[0m \u001b[0mstr\u001b[0m\u001b[0;34m]\u001b[0m\u001b[0;34m\u001b[0m\u001b[0;34m\u001b[0m\u001b[0m\n\u001b[1;32m     15\u001b[0m \u001b[0;34m\u001b[0m\u001b[0m\n\u001b[0;32m---> 16\u001b[0;31m \u001b[0mprint\u001b[0m\u001b[0;34m(\u001b[0m\u001b[0mFixedResolutionBuffer\u001b[0m\u001b[0;34m.\u001b[0m\u001b[0mschema\u001b[0m\u001b[0;34m(\u001b[0m\u001b[0;34m)\u001b[0m\u001b[0;34m)\u001b[0m\u001b[0;34m\u001b[0m\u001b[0;34m\u001b[0m\u001b[0m\n\u001b[0m",
      "\u001b[0;32m~/anaconda3/lib/python3.7/site-packages/pydantic/main.py\u001b[0m in \u001b[0;36mschema\u001b[0;34m(cls, by_alias)\u001b[0m\n\u001b[1;32m    429\u001b[0m         \u001b[0;32mif\u001b[0m \u001b[0mcached\u001b[0m \u001b[0;32mis\u001b[0m \u001b[0;32mnot\u001b[0m \u001b[0;32mNone\u001b[0m\u001b[0;34m:\u001b[0m\u001b[0;34m\u001b[0m\u001b[0;34m\u001b[0m\u001b[0m\n\u001b[1;32m    430\u001b[0m             \u001b[0;32mreturn\u001b[0m \u001b[0mcached\u001b[0m\u001b[0;34m\u001b[0m\u001b[0;34m\u001b[0m\u001b[0m\n\u001b[0;32m--> 431\u001b[0;31m         \u001b[0ms\u001b[0m \u001b[0;34m=\u001b[0m \u001b[0mmodel_schema\u001b[0m\u001b[0;34m(\u001b[0m\u001b[0mcls\u001b[0m\u001b[0;34m,\u001b[0m \u001b[0mby_alias\u001b[0m\u001b[0;34m=\u001b[0m\u001b[0mby_alias\u001b[0m\u001b[0;34m)\u001b[0m\u001b[0;34m\u001b[0m\u001b[0;34m\u001b[0m\u001b[0m\n\u001b[0m\u001b[1;32m    432\u001b[0m         \u001b[0mcls\u001b[0m\u001b[0;34m.\u001b[0m\u001b[0m_schema_cache\u001b[0m\u001b[0;34m[\u001b[0m\u001b[0mby_alias\u001b[0m\u001b[0;34m]\u001b[0m \u001b[0;34m=\u001b[0m \u001b[0ms\u001b[0m\u001b[0;34m\u001b[0m\u001b[0;34m\u001b[0m\u001b[0m\n\u001b[1;32m    433\u001b[0m         \u001b[0;32mreturn\u001b[0m \u001b[0ms\u001b[0m\u001b[0;34m\u001b[0m\u001b[0;34m\u001b[0m\u001b[0m\n",
      "\u001b[0;32m~/anaconda3/lib/python3.7/site-packages/pydantic/schema.py\u001b[0m in \u001b[0;36mmodel_schema\u001b[0;34m(model, by_alias, ref_prefix)\u001b[0m\n\u001b[1;32m    233\u001b[0m     \u001b[0mmodel_name\u001b[0m \u001b[0;34m=\u001b[0m \u001b[0mmodel_name_map\u001b[0m\u001b[0;34m[\u001b[0m\u001b[0mmodel\u001b[0m\u001b[0;34m]\u001b[0m\u001b[0;34m\u001b[0m\u001b[0;34m\u001b[0m\u001b[0m\n\u001b[1;32m    234\u001b[0m     m_schema, m_definitions = model_process_schema(\n\u001b[0;32m--> 235\u001b[0;31m         \u001b[0mmodel\u001b[0m\u001b[0;34m,\u001b[0m \u001b[0mby_alias\u001b[0m\u001b[0;34m=\u001b[0m\u001b[0mby_alias\u001b[0m\u001b[0;34m,\u001b[0m \u001b[0mmodel_name_map\u001b[0m\u001b[0;34m=\u001b[0m\u001b[0mmodel_name_map\u001b[0m\u001b[0;34m,\u001b[0m \u001b[0mref_prefix\u001b[0m\u001b[0;34m=\u001b[0m\u001b[0mref_prefix\u001b[0m\u001b[0;34m\u001b[0m\u001b[0;34m\u001b[0m\u001b[0m\n\u001b[0m\u001b[1;32m    236\u001b[0m     )\n\u001b[1;32m    237\u001b[0m     \u001b[0;32mif\u001b[0m \u001b[0mmodel_name\u001b[0m \u001b[0;32min\u001b[0m \u001b[0mm_definitions\u001b[0m\u001b[0;34m:\u001b[0m\u001b[0;34m\u001b[0m\u001b[0;34m\u001b[0m\u001b[0m\n",
      "\u001b[0;32m~/anaconda3/lib/python3.7/site-packages/pydantic/schema.py\u001b[0m in \u001b[0;36mmodel_process_schema\u001b[0;34m(model, by_alias, model_name_map, ref_prefix, known_models)\u001b[0m\n\u001b[1;32m    545\u001b[0m     \u001b[0mknown_models\u001b[0m\u001b[0;34m.\u001b[0m\u001b[0madd\u001b[0m\u001b[0;34m(\u001b[0m\u001b[0mmodel\u001b[0m\u001b[0;34m)\u001b[0m\u001b[0;34m\u001b[0m\u001b[0;34m\u001b[0m\u001b[0m\n\u001b[1;32m    546\u001b[0m     m_schema, m_definitions = model_type_schema(\n\u001b[0;32m--> 547\u001b[0;31m         \u001b[0mmodel\u001b[0m\u001b[0;34m,\u001b[0m \u001b[0mby_alias\u001b[0m\u001b[0;34m=\u001b[0m\u001b[0mby_alias\u001b[0m\u001b[0;34m,\u001b[0m \u001b[0mmodel_name_map\u001b[0m\u001b[0;34m=\u001b[0m\u001b[0mmodel_name_map\u001b[0m\u001b[0;34m,\u001b[0m \u001b[0mref_prefix\u001b[0m\u001b[0;34m=\u001b[0m\u001b[0mref_prefix\u001b[0m\u001b[0;34m,\u001b[0m \u001b[0mknown_models\u001b[0m\u001b[0;34m=\u001b[0m\u001b[0mknown_models\u001b[0m\u001b[0;34m\u001b[0m\u001b[0;34m\u001b[0m\u001b[0m\n\u001b[0m\u001b[1;32m    548\u001b[0m     )\n\u001b[1;32m    549\u001b[0m     \u001b[0ms\u001b[0m\u001b[0;34m.\u001b[0m\u001b[0mupdate\u001b[0m\u001b[0;34m(\u001b[0m\u001b[0mm_schema\u001b[0m\u001b[0;34m)\u001b[0m\u001b[0;34m\u001b[0m\u001b[0;34m\u001b[0m\u001b[0m\n",
      "\u001b[0;32m~/anaconda3/lib/python3.7/site-packages/pydantic/schema.py\u001b[0m in \u001b[0;36mmodel_type_schema\u001b[0;34m(model, by_alias, model_name_map, ref_prefix, known_models)\u001b[0m\n\u001b[1;32m    572\u001b[0m         \u001b[0;32mtry\u001b[0m\u001b[0;34m:\u001b[0m\u001b[0;34m\u001b[0m\u001b[0;34m\u001b[0m\u001b[0m\n\u001b[1;32m    573\u001b[0m             f_schema, f_definitions = field_schema(\n\u001b[0;32m--> 574\u001b[0;31m                 \u001b[0mf\u001b[0m\u001b[0;34m,\u001b[0m \u001b[0mby_alias\u001b[0m\u001b[0;34m=\u001b[0m\u001b[0mby_alias\u001b[0m\u001b[0;34m,\u001b[0m \u001b[0mmodel_name_map\u001b[0m\u001b[0;34m=\u001b[0m\u001b[0mmodel_name_map\u001b[0m\u001b[0;34m,\u001b[0m \u001b[0mref_prefix\u001b[0m\u001b[0;34m=\u001b[0m\u001b[0mref_prefix\u001b[0m\u001b[0;34m,\u001b[0m \u001b[0mknown_models\u001b[0m\u001b[0;34m=\u001b[0m\u001b[0mknown_models\u001b[0m\u001b[0;34m\u001b[0m\u001b[0;34m\u001b[0m\u001b[0m\n\u001b[0m\u001b[1;32m    575\u001b[0m             )\n\u001b[1;32m    576\u001b[0m         \u001b[0;32mexcept\u001b[0m \u001b[0mSkipField\u001b[0m \u001b[0;32mas\u001b[0m \u001b[0mskip\u001b[0m\u001b[0;34m:\u001b[0m\u001b[0;34m\u001b[0m\u001b[0;34m\u001b[0m\u001b[0m\n",
      "\u001b[0;32m~/anaconda3/lib/python3.7/site-packages/pydantic/schema.py\u001b[0m in \u001b[0;36mfield_schema\u001b[0;34m(field, by_alias, model_name_map, ref_prefix, known_models)\u001b[0m\n\u001b[1;32m    292\u001b[0m         \u001b[0mschema_overrides\u001b[0m\u001b[0;34m=\u001b[0m\u001b[0mschema_overrides\u001b[0m\u001b[0;34m,\u001b[0m\u001b[0;34m\u001b[0m\u001b[0;34m\u001b[0m\u001b[0m\n\u001b[1;32m    293\u001b[0m         \u001b[0mref_prefix\u001b[0m\u001b[0;34m=\u001b[0m\u001b[0mref_prefix\u001b[0m\u001b[0;34m,\u001b[0m\u001b[0;34m\u001b[0m\u001b[0;34m\u001b[0m\u001b[0m\n\u001b[0;32m--> 294\u001b[0;31m         \u001b[0mknown_models\u001b[0m\u001b[0;34m=\u001b[0m\u001b[0mknown_models\u001b[0m \u001b[0;32mor\u001b[0m \u001b[0mset\u001b[0m\u001b[0;34m(\u001b[0m\u001b[0;34m)\u001b[0m\u001b[0;34m,\u001b[0m\u001b[0;34m\u001b[0m\u001b[0;34m\u001b[0m\u001b[0m\n\u001b[0m\u001b[1;32m    295\u001b[0m     )\n\u001b[1;32m    296\u001b[0m     \u001b[0;31m# $ref will only be returned when there are no schema_overrides\u001b[0m\u001b[0;34m\u001b[0m\u001b[0;34m\u001b[0m\u001b[0;34m\u001b[0m\u001b[0m\n",
      "\u001b[0;32m~/anaconda3/lib/python3.7/site-packages/pydantic/schema.py\u001b[0m in \u001b[0;36mfield_type_schema\u001b[0;34m(field, by_alias, model_name_map, schema_overrides, ref_prefix, known_models)\u001b[0m\n\u001b[1;32m    486\u001b[0m         \u001b[0mregex\u001b[0m \u001b[0;34m=\u001b[0m \u001b[0mgetattr\u001b[0m\u001b[0;34m(\u001b[0m\u001b[0mkey_field\u001b[0m\u001b[0;34m.\u001b[0m\u001b[0mtype_\u001b[0m\u001b[0;34m,\u001b[0m \u001b[0;34m'regex'\u001b[0m\u001b[0;34m,\u001b[0m \u001b[0;32mNone\u001b[0m\u001b[0;34m)\u001b[0m\u001b[0;34m\u001b[0m\u001b[0;34m\u001b[0m\u001b[0m\n\u001b[1;32m    487\u001b[0m         f_schema, f_definitions = field_singleton_schema(\n\u001b[0;32m--> 488\u001b[0;31m             \u001b[0mfield\u001b[0m\u001b[0;34m,\u001b[0m \u001b[0mby_alias\u001b[0m\u001b[0;34m=\u001b[0m\u001b[0mby_alias\u001b[0m\u001b[0;34m,\u001b[0m \u001b[0mmodel_name_map\u001b[0m\u001b[0;34m=\u001b[0m\u001b[0mmodel_name_map\u001b[0m\u001b[0;34m,\u001b[0m \u001b[0mref_prefix\u001b[0m\u001b[0;34m=\u001b[0m\u001b[0mref_prefix\u001b[0m\u001b[0;34m,\u001b[0m \u001b[0mknown_models\u001b[0m\u001b[0;34m=\u001b[0m\u001b[0mknown_models\u001b[0m\u001b[0;34m\u001b[0m\u001b[0;34m\u001b[0m\u001b[0m\n\u001b[0m\u001b[1;32m    489\u001b[0m         )\n\u001b[1;32m    490\u001b[0m         \u001b[0mdefinitions\u001b[0m\u001b[0;34m.\u001b[0m\u001b[0mupdate\u001b[0m\u001b[0;34m(\u001b[0m\u001b[0mf_definitions\u001b[0m\u001b[0;34m)\u001b[0m\u001b[0;34m\u001b[0m\u001b[0;34m\u001b[0m\u001b[0m\n",
      "\u001b[0;32m~/anaconda3/lib/python3.7/site-packages/pydantic/schema.py\u001b[0m in \u001b[0;36mfield_singleton_schema\u001b[0;34m(field, by_alias, model_name_map, schema_overrides, ref_prefix, known_models)\u001b[0m\n\u001b[1;32m    728\u001b[0m     \u001b[0;32mif\u001b[0m \u001b[0mfield\u001b[0m\u001b[0;34m.\u001b[0m\u001b[0mschema\u001b[0m \u001b[0;32mis\u001b[0m \u001b[0;32mnot\u001b[0m \u001b[0;32mNone\u001b[0m \u001b[0;32mand\u001b[0m \u001b[0mfield\u001b[0m\u001b[0;34m.\u001b[0m\u001b[0mschema\u001b[0m\u001b[0;34m.\u001b[0m\u001b[0mconst\u001b[0m\u001b[0;34m:\u001b[0m\u001b[0;34m\u001b[0m\u001b[0;34m\u001b[0m\u001b[0m\n\u001b[1;32m    729\u001b[0m         \u001b[0mf_schema\u001b[0m\u001b[0;34m[\u001b[0m\u001b[0;34m'const'\u001b[0m\u001b[0;34m]\u001b[0m \u001b[0;34m=\u001b[0m \u001b[0mfield\u001b[0m\u001b[0;34m.\u001b[0m\u001b[0mdefault\u001b[0m\u001b[0;34m\u001b[0m\u001b[0;34m\u001b[0m\u001b[0m\n\u001b[0;32m--> 730\u001b[0;31m     \u001b[0;32mif\u001b[0m \u001b[0missubclass\u001b[0m\u001b[0;34m(\u001b[0m\u001b[0mfield\u001b[0m\u001b[0;34m.\u001b[0m\u001b[0mtype_\u001b[0m\u001b[0;34m,\u001b[0m \u001b[0mEnum\u001b[0m\u001b[0;34m)\u001b[0m\u001b[0;34m:\u001b[0m\u001b[0;34m\u001b[0m\u001b[0;34m\u001b[0m\u001b[0m\n\u001b[0m\u001b[1;32m    731\u001b[0m         \u001b[0mf_schema\u001b[0m\u001b[0;34m.\u001b[0m\u001b[0mupdate\u001b[0m\u001b[0;34m(\u001b[0m\u001b[0;34m{\u001b[0m\u001b[0;34m'enum'\u001b[0m\u001b[0;34m:\u001b[0m \u001b[0;34m[\u001b[0m\u001b[0mitem\u001b[0m\u001b[0;34m.\u001b[0m\u001b[0mvalue\u001b[0m \u001b[0;32mfor\u001b[0m \u001b[0mitem\u001b[0m \u001b[0;32min\u001b[0m \u001b[0mfield\u001b[0m\u001b[0;34m.\u001b[0m\u001b[0mtype_\u001b[0m\u001b[0;34m]\u001b[0m\u001b[0;34m}\u001b[0m\u001b[0;34m)\u001b[0m\u001b[0;34m\u001b[0m\u001b[0;34m\u001b[0m\u001b[0m\n\u001b[1;32m    732\u001b[0m         \u001b[0;31m# Don't return immediately, to allow adding specific types\u001b[0m\u001b[0;34m\u001b[0m\u001b[0;34m\u001b[0m\u001b[0;34m\u001b[0m\u001b[0m\n",
      "\u001b[0;31mTypeError\u001b[0m: issubclass() arg 1 must be a class"
     ]
    }
   ],
   "source": [
    "class FixedResolutionBuffer(BaseModel):\n",
    "    period : tuple = None\n",
    "    data : Dict = {}\n",
    "    antialias : bool = True\n",
    "    periodic : bool = False\n",
    "    bounds : List[float]\n",
    "    buff_size : Tuple[int, int]\n",
    "    filters : list\n",
    "    axis : int = 0\n",
    "    edges : Tuple[tuple, tuple]\n",
    "    data_source : str = None\n",
    "    # wasn't sure what to put for ds from the custom types in qunatities\n",
    "    ds : List[float]\n",
    "    exclude_fields : Tuple[str, str]\n",
    "\n",
    "print(FixedResolutionBuffer.schema())"
   ]
  },
  {
   "cell_type": "markdown",
   "metadata": {},
   "source": [
    "### Profile Plotter"
   ]
  },
  {
   "cell_type": "markdown",
   "metadata": {},
   "source": [
    "class PlotContainerDict(BaseModel):\n",
    "- no fields"
   ]
  },
  {
   "cell_type": "code",
   "execution_count": 81,
   "metadata": {},
   "outputs": [
    {
     "name": "stdout",
     "output_type": "stream",
     "text": [
      "{'title': 'FigureContainer', 'type': 'object', 'properties': {'plots': {'title': 'Plots', 'type': 'object', 'additionalProperties': {'type': 'number'}}}}\n"
     ]
    }
   ],
   "source": [
    "# typing for ordered dict?\n",
    "class FigureContainer(BaseModel):\n",
    "    plots : OrderedDict[str, float] = None\n",
    "\n",
    "print(FigureContainer.schema())"
   ]
  },
  {
   "cell_type": "code",
   "execution_count": 77,
   "metadata": {},
   "outputs": [
    {
     "name": "stdout",
     "output_type": "stream",
     "text": [
      "{'title': 'AxisContainer', 'type': 'object', 'properties': {'xlim': {'title': 'Xlim', 'type': 'array', 'items': {}}, 'plots': {'title': 'Plots', 'type': 'array', 'items': {}}, 'ylim': {'title': 'Ylim', 'type': 'object'}}, 'required': ['xlim', 'plots']}\n"
     ]
    }
   ],
   "source": [
    "class AxisContainer(BaseModel):\n",
    "    xlim : tuple\n",
    "    plots : tuple\n",
    "    ylim : dict = None\n",
    "        \n",
    "print(AxisContainer.schema())"
   ]
  },
  {
   "cell_type": "code",
   "execution_count": 74,
   "metadata": {},
   "outputs": [
    {
     "name": "stdout",
     "output_type": "stream",
     "text": [
      "{'title': 'ProfilePlot', 'type': 'object', 'properties': {'x_log': {'title': 'X_Log', 'type': 'boolean'}, 'y_log': {'title': 'Y_Log', 'type': 'boolean'}, 'x_title': {'title': 'X_Title', 'type': 'string'}, 'y_title': {'title': 'Y_Title', 'type': 'string'}, 'plot_valid': {'title': 'Plot_Valid', 'default': False, 'type': 'boolean'}}}\n"
     ]
    }
   ],
   "source": [
    "class ProfilePlot(BaseModel): \n",
    "    # two x_logs?\n",
    "    x_log : bool = None\n",
    "    y_log : bool = None\n",
    "    x_title : str = None\n",
    "    y_title : str = None\n",
    "    # plot valid twice?\n",
    "    plot_valid : bool = False\n",
    "        \n",
    "print(ProfilePlot.schema())      "
   ]
  },
  {
   "cell_type": "code",
   "execution_count": 57,
   "metadata": {},
   "outputs": [],
   "source": [
    "class PhasePlot(BaseModel):\n",
    "    plot_valid : bool = False\n",
    "    profile_valid : bool = False\n",
    "    x_log : bool = None\n",
    "    y_log : bool = None\n",
    "    plot_title : str = None\n",
    "    plot_type : str = 'Phase'\n",
    "    xlim : tuple = None\n",
    "    ylim : tuple = None"
   ]
  },
  {
   "cell_type": "code",
   "execution_count": 73,
   "metadata": {},
   "outputs": [
    {
     "name": "stdout",
     "output_type": "stream",
     "text": [
      "{'title': 'PhasePlot', 'type': 'object', 'properties': {'plot_valid': {'title': 'Plot_Valid', 'default': False, 'type': 'boolean'}, 'profile_valid': {'title': 'Profile_Valid', 'default': False, 'type': 'boolean'}, 'x_log': {'title': 'X_Log', 'type': 'boolean'}, 'y_log': {'title': 'Y_Log', 'type': 'boolean'}, 'plot_title': {'title': 'Plot_Title', 'type': 'string'}, 'plot_type': {'title': 'Plot_Type', 'default': 'Phase', 'type': 'string'}, 'xlim': {'title': 'Xlim', 'type': 'array', 'items': {}}, 'ylim': {'title': 'Ylim', 'type': 'array', 'items': {}}}}\n"
     ]
    }
   ],
   "source": [
    "print(PhasePlot.schema())"
   ]
  },
  {
   "cell_type": "code",
   "execution_count": null,
   "metadata": {},
   "outputs": [],
   "source": []
  }
 ],
 "metadata": {
  "kernelspec": {
   "display_name": "Python 3",
   "language": "python",
   "name": "python3"
  },
  "language_info": {
   "codemirror_mode": {
    "name": "ipython",
    "version": 3
   },
   "file_extension": ".py",
   "mimetype": "text/x-python",
   "name": "python",
   "nbconvert_exporter": "python",
   "pygments_lexer": "ipython3",
   "version": "3.7.3"
  }
 },
 "nbformat": 4,
 "nbformat_minor": 2
}
