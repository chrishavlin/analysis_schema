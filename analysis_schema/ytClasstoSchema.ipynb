{
 "cells": [
  {
   "cell_type": "markdown",
   "metadata": {},
   "source": [
    "### Questions:\n",
    "\n",
    "- how can I recognize a yt specific container or entity?\n",
    "    - create a 'new_type'?"
   ]
  },
  {
   "cell_type": "code",
   "execution_count": 52,
   "metadata": {},
   "outputs": [],
   "source": [
    "from typing import Dict, List, Optional, Sequence, Set, Tuple, OrderedDict\n",
    "import enum\n",
    "from pydantic import BaseModel, Schema, create_model\n",
    "from quantities import UnitfulCoordinate, Vector, Path, UnitfulValue, UnitfulArray"
   ]
  },
  {
   "cell_type": "markdown",
   "metadata": {},
   "source": [
    "### Fixed Resolution Buffer"
   ]
  },
  {
   "cell_type": "code",
   "execution_count": 98,
   "metadata": {},
   "outputs": [
    {
     "name": "stdout",
     "output_type": "stream",
     "text": [
      "<bound method BaseModel.schema of <class '__main__.FixedResolutionBuffer'>>\n"
     ]
    }
   ],
   "source": [
    "class FixedResolutionBuffer(BaseModel):\n",
    "    period : tuple = None\n",
    "    data : Dict = {}\n",
    "    antialias : bool = True\n",
    "    periodic : bool = False\n",
    "    bounds : List[float]\n",
    "    buff_size : Tuple[int, int]\n",
    "    filters : List\n",
    "    axis : int = 0\n",
    "    edges : Tuple[tuple, tuple]\n",
    "    data_source : str\n",
    "    # wasn't sure what to put for ds from the custom types in qunatities\n",
    "    ds : List[float]\n",
    "    exclude_fields : Tuple[str, str]\n",
    "\n",
    "print(FixedResolutionBuffer.schema)"
   ]
  },
  {
   "cell_type": "markdown",
   "metadata": {},
   "source": [
    "### Profile Plotter"
   ]
  },
  {
   "cell_type": "markdown",
   "metadata": {},
   "source": [
    "class PlotContainerDict(BaseModel):\n",
    "- no fields"
   ]
  },
  {
   "cell_type": "code",
   "execution_count": 81,
   "metadata": {},
   "outputs": [
    {
     "name": "stdout",
     "output_type": "stream",
     "text": [
      "{'title': 'FigureContainer', 'type': 'object', 'properties': {'plots': {'title': 'Plots', 'type': 'object', 'additionalProperties': {'type': 'number'}}}}\n"
     ]
    }
   ],
   "source": [
    "# typing for ordered dict?\n",
    "class FigureContainer(BaseModel):\n",
    "    plots : OrderedDict[str, float] = None\n",
    "\n",
    "print(FigureContainer.schema())"
   ]
  },
  {
   "cell_type": "code",
   "execution_count": 77,
   "metadata": {},
   "outputs": [
    {
     "name": "stdout",
     "output_type": "stream",
     "text": [
      "{'title': 'AxisContainer', 'type': 'object', 'properties': {'xlim': {'title': 'Xlim', 'type': 'array', 'items': {}}, 'plots': {'title': 'Plots', 'type': 'array', 'items': {}}, 'ylim': {'title': 'Ylim', 'type': 'object'}}, 'required': ['xlim', 'plots']}\n"
     ]
    }
   ],
   "source": [
    "class AxisContainer(BaseModel):\n",
    "    xlim : tuple\n",
    "    plots : tuple\n",
    "    ylim : dict = None\n",
    "        \n",
    "print(AxisContainer.schema())"
   ]
  },
  {
   "cell_type": "code",
   "execution_count": 74,
   "metadata": {},
   "outputs": [
    {
     "name": "stdout",
     "output_type": "stream",
     "text": [
      "{'title': 'ProfilePlot', 'type': 'object', 'properties': {'x_log': {'title': 'X_Log', 'type': 'boolean'}, 'y_log': {'title': 'Y_Log', 'type': 'boolean'}, 'x_title': {'title': 'X_Title', 'type': 'string'}, 'y_title': {'title': 'Y_Title', 'type': 'string'}, 'plot_valid': {'title': 'Plot_Valid', 'default': False, 'type': 'boolean'}}}\n"
     ]
    }
   ],
   "source": [
    "class ProfilePlot(BaseModel): \n",
    "    # two x_logs?\n",
    "    x_log : bool = None\n",
    "    y_log : bool = None\n",
    "    x_title : str = None\n",
    "    y_title : str = None\n",
    "    # plot valid twice?\n",
    "    plot_valid : bool = False\n",
    "        \n",
    "print(ProfilePlot.schema())      "
   ]
  },
  {
   "cell_type": "code",
   "execution_count": 57,
   "metadata": {},
   "outputs": [],
   "source": [
    "class PhasePlot(BaseModel):\n",
    "    plot_valid : bool = False\n",
    "    profile_valid : bool = False\n",
    "    x_log : bool = None\n",
    "    y_log : bool = None\n",
    "    plot_title : str = None\n",
    "    plot_type : str = 'Phase'\n",
    "    xlim : tuple = None\n",
    "    ylim : tuple = None"
   ]
  },
  {
   "cell_type": "code",
   "execution_count": 73,
   "metadata": {},
   "outputs": [
    {
     "name": "stdout",
     "output_type": "stream",
     "text": [
      "{'title': 'PhasePlot', 'type': 'object', 'properties': {'plot_valid': {'title': 'Plot_Valid', 'default': False, 'type': 'boolean'}, 'profile_valid': {'title': 'Profile_Valid', 'default': False, 'type': 'boolean'}, 'x_log': {'title': 'X_Log', 'type': 'boolean'}, 'y_log': {'title': 'Y_Log', 'type': 'boolean'}, 'plot_title': {'title': 'Plot_Title', 'type': 'string'}, 'plot_type': {'title': 'Plot_Type', 'default': 'Phase', 'type': 'string'}, 'xlim': {'title': 'Xlim', 'type': 'array', 'items': {}}, 'ylim': {'title': 'Ylim', 'type': 'array', 'items': {}}}}\n"
     ]
    }
   ],
   "source": [
    "print(PhasePlot.schema())"
   ]
  },
  {
   "cell_type": "code",
   "execution_count": null,
   "metadata": {},
   "outputs": [],
   "source": []
  }
 ],
 "metadata": {
  "kernelspec": {
   "display_name": "Python 3",
   "language": "python",
   "name": "python3"
  },
  "language_info": {
   "codemirror_mode": {
    "name": "ipython",
    "version": 3
   },
   "file_extension": ".py",
   "mimetype": "text/x-python",
   "name": "python",
   "nbconvert_exporter": "python",
   "pygments_lexer": "ipython3",
   "version": "3.7.3"
  }
 },
 "nbformat": 4,
 "nbformat_minor": 2
}
